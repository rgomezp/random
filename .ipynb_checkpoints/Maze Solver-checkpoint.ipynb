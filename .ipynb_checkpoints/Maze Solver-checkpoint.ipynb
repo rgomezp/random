{
 "cells": [
  {
   "cell_type": "code",
   "execution_count": 43,
   "metadata": {
    "collapsed": false
   },
   "outputs": [],
   "source": [
    "import numpy as np\n",
    "from PIL import Image\n",
    "\n",
    "class Node:\n",
    "    def __init__(self, x, y):\n",
    "        self.x = x\n",
    "        self.y = y\n",
    "        self.up = None\n",
    "        self.down = None\n",
    "        self.left = None\n",
    "        self.right = None"
   ]
  },
  {
   "cell_type": "code",
   "execution_count": 61,
   "metadata": {
    "collapsed": false
   },
   "outputs": [],
   "source": [
    "class Graph:\n",
    "    def __init__(self, s):\n",
    "        self.start = s\n",
    "        self.matrix = []\n",
    "    \n",
    "    def addNode(self, node):\n",
    "        if node.x > len(self.matrix):\n",
    "            for i in range(len(self.matrix),node.x):\n",
    "                self.matrix.append([0])\n",
    "                \n",
    "def load_graph(filename):\n",
    "    #load image\n",
    "    img = Image.open(filename)\n",
    "    maze_img = img.load()\n",
    "    #find starting pixel\n",
    "    for i in range(0,img.size[1]):\n",
    "        if maze_img[i,0] is 1:\n",
    "            s = Node(i,0)\n",
    "            break\n",
    "    global graph=Graph(s)\n",
    "        "
   ]
  },
  {
   "cell_type": "code",
   "execution_count": 62,
   "metadata": {
    "collapsed": false
   },
   "outputs": [
    {
     "name": "stdout",
     "output_type": "stream",
     "text": [
      "97\n"
     ]
    }
   ],
   "source": [
    "img = Image.open('braid200.png')\n",
    "maze_img = img.load()\n",
    "\n",
    "\n",
    "load_graph('braid200.png')"
   ]
  },
  {
   "cell_type": "code",
   "execution_count": 36,
   "metadata": {
    "collapsed": false
   },
   "outputs": [
    {
     "name": "stdout",
     "output_type": "stream",
     "text": [
      "[[0], [0], [0], [0], [0], [0], [0], [0]]\n",
      "[[0], [0], [0], [0], [0], [0], [0], [0], [0]]\n"
     ]
    }
   ],
   "source": [
    "node1 = Node(9,0)\n",
    "node2 = Node(8,0)\n",
    "G = Graph(node1)\n",
    "G.addNode(node2)\n",
    "print G.matrix\n",
    "G.addNode(node1)\n",
    "print G.matrix"
   ]
  }
 ],
 "metadata": {
  "kernelspec": {
   "display_name": "Python 2",
   "language": "python",
   "name": "python2"
  },
  "language_info": {
   "codemirror_mode": {
    "name": "ipython",
    "version": 2
   },
   "file_extension": ".py",
   "mimetype": "text/x-python",
   "name": "python",
   "nbconvert_exporter": "python",
   "pygments_lexer": "ipython2",
   "version": "2.7.11"
  }
 },
 "nbformat": 4,
 "nbformat_minor": 1
}
